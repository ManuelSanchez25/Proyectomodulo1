{
 "cells": [
  {
   "cell_type": "markdown",
   "metadata": {},
   "source": [
    "## Problema "
   ]
  },
  {
   "cell_type": "markdown",
   "metadata": {},
   "source": [
    "Un nutriólogo planea un menú que incluye los alimentos A y B como partes principales. Supongamos que cada onza \n",
    "del alimento A contiene 2 unidades de proteína, 1 unidad de hierro y una unidad de tiamina, cada onza del alimento B contiene 1 unidad de proteína, una unidad de hierro y 3 unidades de tiamina.\n",
    "   \n",
    "Supongamos que cada onza de A cuesta 30 centavos mientras cada onza de B cuesta 40 centavos. El nutriólogo\n",
    "quiere que la comida proporcione al menos 12 unidades de proteína, 9 unidades de hierro y al menos 15 de \n",
    "tiamina.\n",
    "¿Cuántas onzas de cada uno de los alimentos debe de emplearse para minimizar el costo de la comida?</pre>"
   ]
  },
  {
   "cell_type": "markdown",
   "metadata": {},
   "source": [
    "# Datos"
   ]
  },
  {
   "cell_type": "markdown",
   "metadata": {},
   "source": [
    "<table class=\"egt\">\n",
    "\n",
    "  <tr>\n",
    "\n",
    "    <th>X</th>\n",
    "\n",
    "    <th>Y</th>\n",
    "\n",
    "\n",
    "  </tr>\n",
    "\n",
    "  <tr>\n",
    "\n",
    "    <td>2 onzas proteina</td>\n",
    "\n",
    "    <td>1 onza de proteina</td>\n",
    "\n",
    "\n",
    "  </tr>\n",
    "\n",
    "  <tr>\n",
    "\n",
    "    <td>1 onza de hierro</td>\n",
    "\n",
    "    <td>1 onza de hierro</td>\n",
    "\n",
    "   \n",
    "\n",
    "  </tr>\n",
    "\n",
    "  <tr>\n",
    "\n",
    "    <td>1 onza de tiamina</td>\n",
    "\n",
    "    <td>3 onza de tiamina</td>\n",
    "\n",
    "  </tr>\n",
    "   <tr>\n",
    "\n",
    "    <td>30 centavos  onza</td>\n",
    "\n",
    "    <td>40 centavos onza</td>\n",
    "\n",
    "\n",
    "\n",
    "</table>"
   ]
  },
  {
   "cell_type": "code",
   "execution_count": 5,
   "metadata": {},
   "outputs": [],
   "source": [
    "\n",
    "import matplotlib.pyplot as plt\n",
    "%matplotlib inline\n",
    "import numpy as np"
   ]
  },
  {
   "cell_type": "markdown",
   "metadata": {},
   "source": [
    "\\begin{equation}\n",
    "\\begin{array}{ll}\n",
    "\\min_{x,y} & +x+y \\\\\n",
    "\\text{s. a. }  & 2x+y\\ge 12 \\\\\n",
    "              & x + y\\ge 9 \\\\\n",
    "              & x+3y\\ge 15 \\\\\n",
    "              & x\\ge 0\\\\\n",
    "              & y\\ge 0,\n",
    "\\end{array}\n",
    "\\end{equation}"
   ]
  },
  {
   "cell_type": "code",
   "execution_count": 30,
   "metadata": {},
   "outputs": [],
   "source": [
    "def x1_v1(x):\n",
    "    return (12 - 2*x) # se despeja x2 ecuacion 1\n",
    "def x2_v2(x):\n",
    "    return (9 - x) # se despeja x2 ecuacion 1\n",
    "def x3_v3(x):\n",
    "    return ((15 - x)/3) # se despeja x2 ecuacion 1"
   ]
  },
  {
   "cell_type": "code",
   "execution_count": 34,
   "metadata": {},
   "outputs": [],
   "source": [
    "x1 = np.linspace(-10, 20)"
   ]
  },
  {
   "cell_type": "code",
   "execution_count": 45,
   "metadata": {},
   "outputs": [
    {
     "data": {
      "image/png": "[encoded data removed]",
      "text/plain": [
       "<matplotlib.figure.Figure at 0x11542c6a0>"
      ]
     },
     "metadata": {},
     "output_type": "display_data"
    }
   ],
   "source": [
    "plt.plot(x1, x1_v1(x1), 'magenta', label = \"Eql\") #desigualdad 1\n",
    "plt.plot(x1, x2_v2(x1), 'b', label = \"Eq2\") #desigualdad 1\n",
    "plt.plot(x1, x3_v3(x1), 'g', label = \"Eq3\") #desigualdad 1\n",
    "\n",
    "\n",
    "\n",
    "plt.hlines(0,0,20, label = \"Eq4\", color = \"k\")\n",
    "plt.vlines(0,0,20, label = \"Eq3\", color= \"k\")\n",
    "plt.xlim(xmin=-1,xmax=30)\n",
    "plt.ylim(ymin=-1,ymax=20)\n",
    "plt.scatter([6], [3], color = 'black')\n",
    "plt.scatter([4.2], [3.6], color = 'black')\n",
    "\n",
    "\n",
    "\n",
    "\n",
    "\n",
    "\n",
    "plt.legend()\n",
    "plt.show()"
   ]
  },
  {
   "cell_type": "code",
   "execution_count": 40,
   "metadata": {},
   "outputs": [],
   "source": [
    "import scipy.optimize as opt"
   ]
  },
  {
   "cell_type": "code",
   "execution_count": 49,
   "metadata": {},
   "outputs": [],
   "source": [
    "c = np.array([-1, -1])\n",
    "A = np.array([[2,1], [1,1],[1,3]])\n",
    "b = np.array([12, 9,15])\n",
    "x1_bound = (0, None)\n",
    "x2_bound = (0, None)\n"
   ]
  },
  {
   "cell_type": "code",
   "execution_count": 50,
   "metadata": {},
   "outputs": [
    {
     "name": "stdout",
     "output_type": "stream",
     "text": [
      "Optimization terminated successfully.\n",
      "         Current function value: -7.800000   \n",
      "         Iterations: 2\n"
     ]
    }
   ],
   "source": [
    "res = opt.linprog(c, A_ub=A, b_ub=b, bounds=(x1_bound, x2_bound), options={'disp':True})\n"
   ]
  },
  {
   "cell_type": "code",
   "execution_count": 51,
   "metadata": {},
   "outputs": [
    {
     "data": {
      "text/plain": [
       "     fun: -7.8\n",
       " message: 'Optimization terminated successfully.'\n",
       "     nit: 2\n",
       "   slack: array([0. , 1.2, 0. ])\n",
       "  status: 0\n",
       " success: True\n",
       "       x: array([4.2, 3.6])"
      ]
     },
     "execution_count": 51,
     "metadata": {},
     "output_type": "execute_result"
    }
   ],
   "source": [
    "res"
   ]
  },
  {
   "cell_type": "code",
   "execution_count": null,
   "metadata": {},
   "outputs": [],
   "source": []
  },
  {
   "cell_type": "code",
   "execution_count": null,
   "metadata": {},
   "outputs": [],
   "source": []
  },
  {
   "cell_type": "code",
   "execution_count": null,
   "metadata": {},
   "outputs": [],
   "source": []
  }
 ],
 "metadata": {
  "kernelspec": {
   "display_name": "Python 3",
   "language": "python",
   "name": "python3"
  },
  "language_info": {
   "codemirror_mode": {
    "name": "ipython",
    "version": 3
   },
   "file_extension": ".py",
   "mimetype": "text/x-python",
   "name": "python",
   "nbconvert_exporter": "python",
   "pygments_lexer": "ipython3",
   "version": "3.6.4"
  }
 },
 "nbformat": 4,
 "nbformat_minor": 2
}
